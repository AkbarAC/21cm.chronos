{
 "cells": [
  {
   "cell_type": "code",
   "execution_count": 1,
   "id": "891f1a20-9d48-4cfb-a480-dd07cb632a4c",
   "metadata": {
    "tags": []
   },
   "outputs": [
    {
     "name": "stderr",
     "output_type": "stream",
     "text": [
      "/home/akbro_10/.local/lib/python3.8/site-packages/py21cmfast/_cfg.py:57: UserWarning: Your configuration file is out of date. Updating...\n",
      "  warnings.warn(\n",
      "/home/akbro_10/.local/lib/python3.8/site-packages/py21cmfast/_cfg.py:41: UserWarning: Your configuration file is out of date. Updating...\n",
      "  warnings.warn(\"Your configuration file is out of date. Updating...\")\n"
     ]
    }
   ],
   "source": [
    "#importing 21cmFast and other relevant libraries\n",
    "# https://github.com/21cmfast/21cmFAST\n",
    "# https://21cmfast.readthedocs.io/en/latest/installation.html\n",
    "\n",
    "import py21cmfast as p21c\n",
    "from py21cmfast import plotting\n",
    "from py21cmfast import cache_tools\n",
    "\n",
    "import matplotlib.pyplot as plt\n",
    "import logging, sys, os, numpy as np\n",
    "logger = logging.getLogger('21cmFAST')\n",
    "logger.setLevel(logging.INFO)\n",
    "\n",
    "from utils import *"
   ]
  },
  {
   "cell_type": "code",
   "execution_count": 2,
   "id": "d41eaa73-f46a-464c-8a45-ddf7f2f7dd49",
   "metadata": {
    "tags": []
   },
   "outputs": [],
   "source": [
    "#importing tools21cm and other relevant libraries\n",
    "# https://github.com/sambit-giri/tools21cm\n",
    "\n",
    "import tools21cm as t2c\n",
    "\n",
    "import numpy as np, matplotlib.pyplot as plt\n",
    "from scipy import fftpack, stats\n",
    "from numpy import pi\n",
    "import warnings\n",
    "warnings.filterwarnings(\"ignore\")"
   ]
  },
  {
   "cell_type": "code",
   "execution_count": 3,
   "id": "c86bfacc-cc25-445a-99b9-912480d34d8b",
   "metadata": {
    "tags": []
   },
   "outputs": [
    {
     "name": "stdout",
     "output_type": "stream",
     "text": [
      "[ 4.5  4.6  4.7  4.8  4.9  5.   5.1  5.2  5.3  5.4  5.5  5.6  5.7  5.8\n",
      "  5.9  6.   6.1  6.2  6.3  6.4  6.5  6.6  6.7  6.8  6.9  7.   7.1  7.2\n",
      "  7.3  7.4  7.5  7.6  7.7  7.8  7.9  8.   8.1  8.2  8.3  8.4  8.5  8.6\n",
      "  8.7  8.8  8.9  9.   9.1  9.2  9.3  9.4  9.5  9.6  9.7  9.8  9.9 10.\n",
      " 10.1 10.2 10.3 10.4 10.5 10.6 10.7 10.8 10.9 11.  11.1 11.2 11.3 11.4\n",
      " 11.5 11.6 11.7 11.8 11.9 12.  12.1 12.2 12.3 12.4 12.5 12.6 12.7 12.8\n",
      " 12.9 13.  13.1 13.2 13.3 13.4 13.5 13.6 13.7 13.8 13.9 14.  14.1 14.2\n",
      " 14.3 14.4 14.5 14.6 14.7 14.8 14.9]\n"
     ]
    },
    {
     "data": {
      "text/plain": [
       "105"
      ]
     },
     "execution_count": 3,
     "metadata": {},
     "output_type": "execute_result"
    }
   ],
   "source": [
    "z = np.arange(4.5, 15, 0.1)\n",
    "print(z)\n",
    "len(z)"
   ]
  },
  {
   "cell_type": "code",
   "execution_count": 4,
   "id": "7e7a4851-7d4f-4b01-a97d-26627020090a",
   "metadata": {
    "tags": []
   },
   "outputs": [],
   "source": [
    "def brightness_temperature(box, redshift, hubble=None, matter=None):\n",
    "    initial_conditions = p21c.initial_conditions(\n",
    "        #\"hires_density\",\n",
    "        user_params = {\"HII_DIM\": box, \"BOX_LEN\": box},\n",
    "        cosmo_params = p21c.CosmoParams(SIGMA_8=0.8, hlittle=hubble, OMm=matter),\n",
    "        random_seed=54321\n",
    "    )\n",
    "\n",
    "    perturbed_field = p21c.perturb_field(\n",
    "        redshift = redshift,\n",
    "        init_boxes = initial_conditions\n",
    "    )\n",
    "\n",
    "    ionized_field = p21c.ionize_box(\n",
    "        perturbed_field = perturbed_field\n",
    "    )\n",
    "\n",
    "    brightness_temp = p21c.brightness_temperature(ionized_box=ionized_field, perturbed_field=perturbed_field)\n",
    "\n",
    "    return brightness_temp"
   ]
  },
  {
   "cell_type": "code",
   "execution_count": 5,
   "id": "5f047916-7c97-4afa-888a-bf462bb4c3f2",
   "metadata": {
    "tags": []
   },
   "outputs": [],
   "source": [
    "Yf = np.array([brightness_temperature(box=120, redshift=i).brightness_temp for i in z])"
   ]
  },
  {
   "cell_type": "code",
   "execution_count": 6,
   "id": "a1bd3dde-0a3d-419d-8f13-2f98abc94763",
   "metadata": {
    "tags": []
   },
   "outputs": [],
   "source": [
    "import matplotlib.pyplot as plt\n",
    "from matplotlib.backends.backend_pdf import PdfPages\n",
    "\n",
    "with PdfPages('brightness_temperature_singlepage120.pdf') as pdf:\n",
    "    for i in range(0, len(z), 1):  # Adjust the step size as needed\n",
    "        fig, ax = plt.subplots(1, 1, figsize=(30, 30))\n",
    "\n",
    "        im = ax.imshow(Yf[i, :, :, 0])\n",
    "        ax.set_title(f\"z = {z[i]}\")\n",
    "\n",
    "        # cbar = fig.colorbar(im, ax=ax, orientation='vertical')\n",
    "        # cbar.set_label('Brightness Temperature')\n",
    "\n",
    "        pdf.savefig(fig)\n",
    "        plt.close(fig)"
   ]
  }
 ],
 "metadata": {
  "kernelspec": {
   "display_name": "Python 3 (ipykernel)",
   "language": "python",
   "name": "python3"
  },
  "language_info": {
   "codemirror_mode": {
    "name": "ipython",
    "version": 3
   },
   "file_extension": ".py",
   "mimetype": "text/x-python",
   "name": "python",
   "nbconvert_exporter": "python",
   "pygments_lexer": "ipython3",
   "version": "3.8.10"
  }
 },
 "nbformat": 4,
 "nbformat_minor": 5
}
